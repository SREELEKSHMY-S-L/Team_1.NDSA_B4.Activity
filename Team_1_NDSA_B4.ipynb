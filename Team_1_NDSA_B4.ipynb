{
 "cells": [
  {
   "cell_type": "markdown",
   "metadata": {
    "id": "4z_Z-K1tlrS7"
   },
   "source": [
    "## Team 1   NDSA_B4\n",
    "### Authors:  Arjun B K, Sreehari Menon, Sreelekshmy S L, Nikhil Perumpulavil, Vidya G\n",
    "\n"
   ]
  },
  {
   "cell_type": "markdown",
   "metadata": {},
   "source": [
    "#### Activity 2 (assigned on 04/11/2021)\n",
    "#### Submission date : 05/11/2021"
   ]
  },
  {
   "cell_type": "markdown",
   "metadata": {},
   "source": [
    "## 1. Complete the following code to find the area of an equilateral triangle. Output should be as displayed\n"
   ]
  },
  {
   "cell_type": "code",
   "execution_count": 1,
   "metadata": {
    "id": "rP2qFD_SlrS_"
   },
   "outputs": [
    {
     "name": "stdout",
     "output_type": "stream",
     "text": [
      "Enter the side of the equilateral triangle: 12\n",
      "The area of the triangle is :  62.35382907247958\n"
     ]
    }
   ],
   "source": [
    "import math\n",
    "side = float(input(\"Enter the side of the equilateral triangle: \"))\n",
    "area = ((math.sqrt(3))/4)*pow(side,2)\n",
    "print('The area of the triangle is : ',area)"
   ]
  },
  {
   "cell_type": "markdown",
   "metadata": {
    "id": "TjVKjIfclrTB"
   },
   "source": [
    "## 2. Write a program to count the number of each characters in a string"
   ]
  },
  {
   "cell_type": "code",
   "execution_count": 2,
   "metadata": {
    "id": "JY5seVUQlrTC"
   },
   "outputs": [
    {
     "name": "stdout",
     "output_type": "stream",
     "text": [
      "Enter the string : Repeatability\n",
      "Count of all characters is :\n",
      "{'r': 1, 'e': 2, 'p': 1, 'a': 2, 't': 2, 'b': 1, 'i': 2, 'l': 1, 'y': 1}\n"
     ]
    }
   ],
   "source": [
    "a = input('Enter the string : ').lower()\n",
    "str_count = {}\n",
    "\n",
    "for i in a :\n",
    "    if i in str_count:\n",
    "        str_count[i] +=1\n",
    "    else:\n",
    "        str_count[i] = 1\n",
    "print('Count of all characters is :\\n' + str(str_count))        "
   ]
  },
  {
   "cell_type": "markdown",
   "metadata": {
    "id": "l3LCULfklrTD"
   },
   "source": [
    "## 3. Write a program to find the area and perimeter of a rectangle using functions"
   ]
  },
  {
   "cell_type": "code",
   "execution_count": 3,
   "metadata": {
    "id": "8haQD8edlrTD"
   },
   "outputs": [
    {
     "name": "stdout",
     "output_type": "stream",
     "text": [
      "Enter the length of the rectangle: 12\n",
      "Enter the width of the rectangle: 15\n",
      "Perimeter :  54\n",
      "Area :  180\n"
     ]
    }
   ],
   "source": [
    "def perimeter(l,w):\n",
    "    P = 2*(l+w)\n",
    "    return P\n",
    "def area(l,w): \n",
    "    A = l*w\n",
    "    return A\n",
    "l = int(input('Enter the length of the rectangle: '))\n",
    "w = int(input('Enter the width of the rectangle: '))\n",
    "print('Perimeter : ',perimeter(l,w))\n",
    "print('Area : ',area(l,w))\n",
    "\n",
    "    "
   ]
  },
  {
   "cell_type": "markdown",
   "metadata": {
    "id": "JHK4ZdsflrTE"
   },
   "source": [
    "## 4. Write a program to print the fibonacci series till a specified number"
   ]
  },
  {
   "cell_type": "code",
   "execution_count": 4,
   "metadata": {
    "id": "LyBEj-4SlrTE"
   },
   "outputs": [
    {
     "name": "stdout",
     "output_type": "stream",
     "text": [
      "Enter a limit: 10\n",
      "0\n",
      "1\n",
      "1\n",
      "2\n",
      "3\n",
      "5\n",
      "8\n",
      "13\n",
      "21\n",
      "34\n"
     ]
    }
   ],
   "source": [
    "n = int(input('Enter a limit: '))\n",
    "n1=0\n",
    "n2=1\n",
    "sum=0\n",
    "count=1\n",
    "while (count<=n):\n",
    "    print(sum)\n",
    "    count+=1\n",
    "    n1=n2\n",
    "    n2=sum\n",
    "    sum=n1+n2\n",
    "            \n",
    "            "
   ]
  },
  {
   "cell_type": "markdown",
   "metadata": {
    "id": "u4uBUcQKlrTE"
   },
   "source": [
    "## 5. Complete the following code to find the minimum of 3 number using cinditional statements. Output should be as displayed"
   ]
  },
  {
   "cell_type": "code",
   "execution_count": 5,
   "metadata": {
    "id": "XdZwrZjIlrTF",
    "scrolled": true
   },
   "outputs": [
    {
     "name": "stdout",
     "output_type": "stream",
     "text": [
      "Enter three numbers followed by  : 23 41 65\n",
      "First number : 23\n",
      "Second number : 41\n",
      "Third number : 65\n",
      "23  is smallest\n"
     ]
    }
   ],
   "source": [
    "a,b,c = input(\"Enter three numbers followed by  : \").split()\n",
    "\n",
    "print(\"First number :\",a)\n",
    "print(\"Second number :\",b)\n",
    "print(\"Third number :\",c)\n",
    "\n",
    "if a==b and b==c:\n",
    "    print(\"Entered numbers are equal!!!\")\n",
    "elif a<(b and c):\n",
    "    print(a,\" is smallest\")\n",
    "elif b<(a and c):\n",
    "    print(b,\" is smallest\")\n",
    "else:\n",
    "    print(c,\" is smallest\")\n"
   ]
  },
  {
   "cell_type": "markdown",
   "metadata": {
    "id": "aR_CnToWlrTG"
   },
   "source": [
    "## 6. Write a program to print star pyramind. The number of rows should be taken as input from the user"
   ]
  },
  {
   "cell_type": "code",
   "execution_count": 6,
   "metadata": {
    "id": "M37A-buplrTG"
   },
   "outputs": [
    {
     "name": "stdout",
     "output_type": "stream",
     "text": [
      "Enter a number 6\n",
      "*\n",
      "\n",
      "**\n",
      "\n",
      "***\n",
      "\n",
      "****\n",
      "\n",
      "*****\n",
      "\n",
      "******\n",
      "\n"
     ]
    }
   ],
   "source": [
    "r = int(input('Enter a number '))\n",
    "for i in range(r):\n",
    "    for j in range(i+1):\n",
    "        print('*',end='')\n",
    "    print('\\n')    "
   ]
  },
  {
   "cell_type": "markdown",
   "metadata": {
    "id": "tlY6aFWBlrTH"
   },
   "source": [
    "## 7. Complete the following code to convert hour into seconds. Output should be as displayed"
   ]
  },
  {
   "cell_type": "code",
   "execution_count": 7,
   "metadata": {
    "id": "YOZQFk7FlrTH"
   },
   "outputs": [
    {
     "name": "stdout",
     "output_type": "stream",
     "text": [
      "Enter the hour : 20\n",
      "20  Hour is equal to 72000  Seconds\n"
     ]
    }
   ],
   "source": [
    "def to_seconds(t):\n",
    "    s = t*60*60\n",
    "    return s\n",
    "time_in_hours = int(input('Enter the hour : '))\n",
    "print(time_in_hours ,\" Hour is equal to\" ,to_seconds(time_in_hours) ,\" Seconds\")"
   ]
  },
  {
   "cell_type": "markdown",
   "metadata": {
    "id": "CnYorNiLlrTI"
   },
   "source": [
    "## 8. Write a program to print multiplication table as below"
   ]
  },
  {
   "cell_type": "code",
   "execution_count": 8,
   "metadata": {
    "id": "dPQqDPuDlrTI"
   },
   "outputs": [
    {
     "name": "stdout",
     "output_type": "stream",
     "text": [
      "Enter a number : 23\n",
      "Enter the limit : 12\n",
      "1 * 23 = 23\n",
      "2 * 23 = 46\n",
      "3 * 23 = 69\n",
      "4 * 23 = 92\n",
      "5 * 23 = 115\n",
      "6 * 23 = 138\n",
      "7 * 23 = 161\n",
      "8 * 23 = 184\n",
      "9 * 23 = 207\n",
      "10 * 23 = 230\n",
      "11 * 23 = 253\n",
      "12 * 23 = 276\n"
     ]
    }
   ],
   "source": [
    "n = int(input('Enter a number : '))\n",
    "r= int(input('Enter the limit : '))\n",
    "for i in range(1,r+1):\n",
    "    print(i,'*',n,'=',i*n)"
   ]
  },
  {
   "cell_type": "markdown",
   "metadata": {
    "id": "Fiaez8iblrTI"
   },
   "source": [
    "## 9. Write a program to take your 5 favorite food as list and print each as 'I like Biriyani'"
   ]
  },
  {
   "cell_type": "code",
   "execution_count": 1,
   "metadata": {
    "id": "39W1zFX7lrTJ"
   },
   "outputs": [
    {
     "name": "stdout",
     "output_type": "stream",
     "text": [
      "Enter your favourite food : biriyani\n",
      "I like biriyani\n",
      "Enter your favourite food : rice\n",
      "I like rice\n",
      "Enter your favourite food : dosa\n",
      "I like dosa\n",
      "Enter your favourite food : idly\n",
      "I like idly\n",
      "Enter your favourite food : chapathi\n",
      "I like chapathi\n",
      "List of favourite foods are:  ['biriyani', 'rice', 'dosa', 'idly', 'chapathi']\n"
     ]
    }
   ],
   "source": [
    "food_items =[]\n",
    "for i in range(5):\n",
    "    food = input('Enter your favourite food : ')\n",
    "    food_items.append(food)\n",
    "    print('I like', food_items[i])\n",
    "print('List of favourite foods are: ', food_items)    "
   ]
  },
  {
   "cell_type": "markdown",
   "metadata": {
    "id": "3vlcDNNEP7d_"
   },
   "source": [
    "## 10. Find error(s) in the following code(if any) and rewrite code.\n",
    "\n"
   ]
  },
  {
   "cell_type": "code",
   "execution_count": 11,
   "metadata": {
    "id": "coREkcY3P9sG"
   },
   "outputs": [
    {
     "name": "stdout",
     "output_type": "stream",
     "text": [
      "Enter value of x:5\n",
      "5 and 0 are unequal\n",
      "5 and 1 are unequal\n",
      "5 and 2 are unequal\n",
      "5 and 3 are unequal\n",
      "5 and 4 are unequal\n",
      "5 and 5 are equal\n",
      "5 and 6 are unequal\n",
      "5 and 7 are unequal\n",
      "5 and 8 are unequal\n",
      "5 and 9 are unequal\n"
     ]
    }
   ],
   "source": [
    "x= int(input('Enter value of x:'))\n",
    "for y in range(0,10):\n",
    "     if x==y:\n",
    "          print(x,'and',y, 'are equal')\n",
    "     else:\n",
    "         print(x,'and',y ,\"are unequal\")"
   ]
  },
  {
   "cell_type": "markdown",
   "metadata": {},
   "source": [
    "### Task Completed"
   ]
  },
  {
   "cell_type": "code",
   "execution_count": null,
   "metadata": {},
   "outputs": [],
   "source": []
  }
 ],
 "metadata": {
  "colab": {
   "collapsed_sections": [],
   "name": "Q&A activity student file.ipynb",
   "provenance": []
  },
  "kernelspec": {
   "display_name": "Python 3",
   "language": "python",
   "name": "python3"
  },
  "language_info": {
   "codemirror_mode": {
    "name": "ipython",
    "version": 3
   },
   "file_extension": ".py",
   "mimetype": "text/x-python",
   "name": "python",
   "nbconvert_exporter": "python",
   "pygments_lexer": "ipython3",
   "version": "3.8.5"
  }
 },
 "nbformat": 4,
 "nbformat_minor": 1
}
